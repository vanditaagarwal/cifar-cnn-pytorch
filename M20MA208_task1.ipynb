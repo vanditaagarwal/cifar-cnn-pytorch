{
  "nbformat": 4,
  "nbformat_minor": 0,
  "metadata": {
    "colab": {
      "provenance": [],
      "toc_visible": true,
      "authorship_tag": "ABX9TyOlwNFR0gqThVx0fOpYnGL7",
      "include_colab_link": true
    },
    "kernelspec": {
      "name": "python3",
      "display_name": "Python 3"
    },
    "language_info": {
      "name": "python"
    }
  },
  "cells": [
    {
      "cell_type": "markdown",
      "metadata": {
        "id": "view-in-github",
        "colab_type": "text"
      },
      "source": [
        "<a href=\"https://colab.research.google.com/github/vanditaagarwal/cifar-cnn-pytorch/blob/master/M20MA208_task1.ipynb\" target=\"_parent\"><img src=\"https://colab.research.google.com/assets/colab-badge.svg\" alt=\"Open In Colab\"/></a>"
      ]
    },
    {
      "cell_type": "code",
      "execution_count": null,
      "metadata": {
        "colab": {
          "base_uri": "https://localhost:8080/"
        },
        "id": "l6YVx2i5jpq3",
        "outputId": "b5f2e436-db2a-415b-e247-6ab21619ac47"
      },
      "outputs": [
        {
          "output_type": "stream",
          "name": "stdout",
          "text": [
            "0.1349524513967535\n"
          ]
        }
      ],
      "source": [
        "# Independent variable is Rainfall\n",
        "# Dependent variable is Crop Yield\n",
        "import numpy as np\n",
        "import pandas as pd\n",
        "import matplotlib.pyplot as plt\n",
        "\n",
        "Task1=pd.read_csv(\"/content/Rainfall_dataset.csv\")\n",
        "\n",
        "Task1.head()\n",
        "\n",
        "#Relationship coefficient between dependent and independent variabvles\n",
        "corr = Task1['Rainfall (mm)'].corr(Task1['Yield (hg/ha)'])\n",
        "print(corr)\n",
        "\n",
        "#initializing x and y\n",
        "x=Task1['Rainfall (mm)']\n",
        "y=Task1['Yield (hg/ha)']"
      ]
    },
    {
      "cell_type": "code",
      "source": [
        "# Estimating coefficients using least square method\n",
        "samples = np.size(x)\n",
        "print(samples)\n",
        "\n",
        "m1 = np.mean(x)\n",
        "m2 = np.mean(y)\n",
        "\n",
        "# calculating cross-deviation and deviation about x\n",
        "SS_xy = np.sum(y*x) - samples*m2*m1\n",
        "SS_xx = np.sum(x*x) - samples*m1*m1\n",
        "\n",
        "# calculating regression coefficients\n",
        "w = SS_xy / SS_xx\n",
        "b = m2 - w*m1\n",
        "\n",
        "print(b, w)"
      ],
      "metadata": {
        "colab": {
          "base_uri": "https://localhost:8080/"
        },
        "id": "S-J6cwDJwQt3",
        "outputId": "3da088ac-f29a-4154-ccd1-96caebb3120e"
      },
      "execution_count": null,
      "outputs": [
        {
          "output_type": "stream",
          "name": "stdout",
          "text": [
            "52\n",
            "17034.27816724094 8.97227438014799\n"
          ]
        }
      ]
    },
    {
      "cell_type": "code",
      "source": [
        "# plotting the actual points as scatter plot\n",
        "plt.scatter(x, y, color = \"r\", marker = \".\", s = 30)\n",
        "\n",
        "# prediction vector\n",
        "y_pred = b + w*x\n",
        "\n",
        "# plotting the regression line\n",
        "plt.plot(x, y_pred, color = \"b\")\n",
        "\n",
        "# putting labels\n",
        "plt.xlabel('Rainfall (in mm)')\n",
        "plt.ylabel('Yield (hg/ha)')\n",
        "\n",
        "plt.show()"
      ],
      "metadata": {
        "colab": {
          "base_uri": "https://localhost:8080/",
          "height": 279
        },
        "id": "Erlzt-M9ymy5",
        "outputId": "860b0c37-d5ee-4766-acfd-3cd43ea2e9de"
      },
      "execution_count": null,
      "outputs": [
        {
          "output_type": "display_data",
          "data": {
            "text/plain": [
              "<Figure size 432x288 with 1 Axes>"
            ],
            "image/png": "[encoded data removed]"
          },
          "metadata": {
            "needs_background": "light"
          }
        }
      ]
    },
    {
      "cell_type": "code",
      "source": [
        "# Yield when Rainfall(x) is 560 mm\n",
        "y_560 = b + w*(560)\n",
        "print(y_560 , \"hg/ha\")"
      ],
      "metadata": {
        "colab": {
          "base_uri": "https://localhost:8080/"
        },
        "id": "WhajuKai0nYM",
        "outputId": "c7c04e69-fa25-4b84-935e-a7a4b626e32e"
      },
      "execution_count": null,
      "outputs": [
        {
          "output_type": "stream",
          "name": "stdout",
          "text": [
            "22058.751820123813 hg/ha\n"
          ]
        }
      ]
    },
    {
      "cell_type": "code",
      "source": [
        "# Train-Test Split (70:30)\n",
        "\n",
        "from sklearn.model_selection import train_test_split\n",
        "x_train,x_test,y_train,y_test=train_test_split(x,y,test_size=0.30,random_state=0)"
      ],
      "metadata": {
        "id": "Nny96RmegW4P"
      },
      "execution_count": null,
      "outputs": []
    },
    {
      "cell_type": "code",
      "source": [
        "# Prediction on test data\n",
        "y1_pred=b + w*(x_test)"
      ],
      "metadata": {
        "id": "aiFcWAZ_gYI4"
      },
      "execution_count": null,
      "outputs": []
    },
    {
      "cell_type": "code",
      "source": [
        "# Mean square error\n",
        "\n",
        "from sklearn.metrics import mean_squared_error\n",
        "Mse = mean_squared_error(y_test, y1_pred,squared =False)\n",
        "print(\"MSE\", Mse)"
      ],
      "metadata": {
        "id": "mfbIUTbx-8oL",
        "colab": {
          "base_uri": "https://localhost:8080/"
        },
        "outputId": "dcdf4168-075b-4b74-8dd1-eefd027a9257"
      },
      "execution_count": null,
      "outputs": [
        {
          "output_type": "stream",
          "name": "stdout",
          "text": [
            "MSE 10160.437005703823\n"
          ]
        }
      ]
    },
    {
      "cell_type": "code",
      "source": [
        "# Mean Absolute Error\n",
        "\n",
        "from sklearn.metrics import mean_absolute_error\n",
        "Mae = mean_absolute_error(y_test, y1_pred)\n",
        "print(\"MAE\", Mae)"
      ],
      "metadata": {
        "id": "C24z0pDV-8zR",
        "colab": {
          "base_uri": "https://localhost:8080/"
        },
        "outputId": "c3643c72-8129-4df2-f8b6-1c68226b49fa"
      },
      "execution_count": null,
      "outputs": [
        {
          "output_type": "stream",
          "name": "stdout",
          "text": [
            "MAE 9308.379452856998\n"
          ]
        }
      ]
    },
    {
      "cell_type": "code",
      "source": [],
      "metadata": {
        "id": "I8iK-roV-86M"
      },
      "execution_count": null,
      "outputs": []
    }
  ]
}